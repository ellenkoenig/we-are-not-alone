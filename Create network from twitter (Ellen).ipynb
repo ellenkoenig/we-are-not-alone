{
 "cells": [
  {
   "cell_type": "code",
   "execution_count": 1,
   "metadata": {},
   "outputs": [],
   "source": [
    "import os\n",
    "import pickle"
   ]
  },
  {
   "cell_type": "code",
   "execution_count": 2,
   "metadata": {},
   "outputs": [],
   "source": [
    "token=os.getenv('ACCESS_TOKEN')\n",
    "token_secret=os.getenv('ACCESS_TOKEN_SECRET')\n",
    "consumer_key=os.getenv('CONSUMER_KEY')\n",
    "consumer_secret=os.getenv('CONSUMER_SECRET')"
   ]
  },
  {
   "cell_type": "code",
   "execution_count": 3,
   "metadata": {},
   "outputs": [],
   "source": [
    "import twitter\n",
    "api = twitter.Api(consumer_key=consumer_key,\n",
    "                  consumer_secret=consumer_secret,\n",
    "                  access_token_key=token,\n",
    "                  access_token_secret=token_secret,\n",
    "                  #sleep_on_rate_limit=True\n",
    "                )"
   ]
  },
  {
   "cell_type": "code",
   "execution_count": 4,
   "metadata": {
    "scrolled": true
   },
   "outputs": [
    {
     "data": {
      "text/plain": [
       "<twitter.api.Api at 0x1066185f8>"
      ]
     },
     "execution_count": 4,
     "metadata": {},
     "output_type": "execute_result"
    }
   ],
   "source": [
    "api"
   ]
  },
  {
   "cell_type": "markdown",
   "metadata": {},
   "source": [
    "# Tweeters using the Hashtag #shdb17"
   ]
  },
  {
   "cell_type": "code",
   "execution_count": 5,
   "metadata": {},
   "outputs": [
    {
     "data": {
      "text/plain": [
       "{15772640: 'ramin__',\n",
       " 19071614: 'hirbel',\n",
       " 21995182: 'katausten',\n",
       " 40774011: 'luizalbd',\n",
       " 73082628: 'talknewvic',\n",
       " 77477607: 'derjoram',\n",
       " 99586343: 'lu_cyP',\n",
       " 274071475: 'UCLbasc',\n",
       " 700611380: 'rikunert',\n",
       " 1243981704: 'katihappyy'}"
      ]
     },
     "execution_count": 5,
     "metadata": {},
     "output_type": "execute_result"
    }
   ],
   "source": [
    "tweets = api.GetSearch(raw_query='q=%23shdb17&count=100&since_id=2017-10-01')\n",
    "science_hack_tweeters = {tweet.user.id: tweet.user.screen_name for tweet in tweets}\n",
    "science_hack_tweeters"
   ]
  },
  {
   "cell_type": "markdown",
   "metadata": {},
   "source": [
    "# Followers of a user"
   ]
  },
  {
   "cell_type": "code",
   "execution_count": 6,
   "metadata": {},
   "outputs": [],
   "source": [
    "#followers_shd_berlin = api.GetFollowers(user_id='1531582164', total_count=5, skip_status=True)"
   ]
  },
  {
   "cell_type": "code",
   "execution_count": 7,
   "metadata": {},
   "outputs": [],
   "source": [
    "#followers_shd_berlin"
   ]
  },
  {
   "cell_type": "code",
   "execution_count": 8,
   "metadata": {},
   "outputs": [],
   "source": [
    "#followers_shd_berlin[0].screen_name"
   ]
  },
  {
   "cell_type": "markdown",
   "metadata": {},
   "source": [
    "# Members of the SHDB17 Twitter list \n",
    "https://twitter.com/SHD_Berlin/lists/shd-berlin-2017"
   ]
  },
  {
   "cell_type": "code",
   "execution_count": 9,
   "metadata": {},
   "outputs": [
    {
     "data": {
      "text/plain": [
       "[List(ID=928630046448848897, FullName='@SHD_Berlin/shd-berlin-2017', Slug=shd-berlin-2017, User=SHD_Berlin),\n",
       " List(ID=873203403538796544, FullName='@SHD_Berlin/shdb17-orga-team', Slug=shdb17-orga-team, User=SHD_Berlin),\n",
       " List(ID=779484881285963776, FullName='@SHD_Berlin/shd-berlin-2016', Slug=shd-berlin-2016, User=SHD_Berlin),\n",
       " List(ID=230990707, FullName='@SHD_Berlin/berlin-community', Slug=berlin-community, User=SHD_Berlin),\n",
       " List(ID=223103221, FullName='@SHD_Berlin/shd-berlin-2015', Slug=shd-berlin-2015, User=SHD_Berlin),\n",
       " List(ID=175486869, FullName='@SHD_Berlin/shd-berlin-2014', Slug=shd-berlin-2014, User=SHD_Berlin)]"
      ]
     },
     "execution_count": 9,
     "metadata": {},
     "output_type": "execute_result"
    }
   ],
   "source": [
    "api.GetLists(user_id='1531582164')"
   ]
  },
  {
   "cell_type": "code",
   "execution_count": 10,
   "metadata": {},
   "outputs": [
    {
     "data": {
      "text/plain": [
       "{11712822: 'li5a',\n",
       " 14947781: 'onna_no_hito',\n",
       " 15772640: 'ramin__',\n",
       " 19071614: 'hirbel',\n",
       " 21492460: 'ellen_koenig',\n",
       " 21995182: 'katausten',\n",
       " 29342035: 'PCH_Intl',\n",
       " 40774011: 'luizalbd',\n",
       " 51757957: 'genekogan',\n",
       " 77477607: 'derjoram',\n",
       " 99586343: 'lu_cyP',\n",
       " 165745785: 'Mboathomas',\n",
       " 202275865: 'xMartin',\n",
       " 226237233: 'arnejenssen',\n",
       " 307615698: 'Cassandreces',\n",
       " 326840157: 'dadafoto',\n",
       " 333494575: 'meredityman',\n",
       " 378694453: 'sarahhermanutz',\n",
       " 1112710856: 'AravinthPanch',\n",
       " 1243981704: 'katihappyy',\n",
       " 1637049138: 'GoodpatchBerlin',\n",
       " 2203330990: 'Rick_Scavetta',\n",
       " 2675053819: 'giu_pap',\n",
       " 2809668737: 'lukeidesign',\n",
       " 2867007903: 'robertkovax',\n",
       " 4414975041: 'Th_Heidtmann',\n",
       " 715590200794222593: 'sciencejoram',\n",
       " 804277319510724609: 'nbt_ag',\n",
       " 819927704850038785: 'eLifeInnovation',\n",
       " 821041513836724224: 'Volpato1985'}"
      ]
     },
     "execution_count": 10,
     "metadata": {},
     "output_type": "execute_result"
    }
   ],
   "source": [
    "science_hackers = {user.id: user.screen_name for user in api.GetListMembers(list_id='928630046448848897')}\n",
    "science_hackers"
   ]
  },
  {
   "cell_type": "code",
   "execution_count": 11,
   "metadata": {},
   "outputs": [
    {
     "data": {
      "text/plain": [
       "34"
      ]
     },
     "execution_count": 11,
     "metadata": {},
     "output_type": "execute_result"
    }
   ],
   "source": [
    "all_users = {**science_hack_tweeters,  **science_hackers, **{1531582164:'SHD_Berlin'}}\n",
    "len(all_users)"
   ]
  },
  {
   "cell_type": "code",
   "execution_count": 12,
   "metadata": {},
   "outputs": [
    {
     "data": {
      "text/plain": [
       "{51757957: 'genekogan',\n",
       " 73082628: 'talknewvic',\n",
       " 202275865: 'xMartin',\n",
       " 1243981704: 'katihappyy',\n",
       " 1531582164: 'SHD_Berlin',\n",
       " 2203330990: 'Rick_Scavetta',\n",
       " 2867007903: 'robertkovax',\n",
       " 715590200794222593: 'sciencejoram',\n",
       " 804277319510724609: 'nbt_ag',\n",
       " 819927704850038785: 'eLifeInnovation',\n",
       " 821041513836724224: 'Volpato1985'}"
      ]
     },
     "execution_count": 12,
     "metadata": {},
     "output_type": "execute_result"
    }
   ],
   "source": [
    "# Hack to limit the user list to 15\n",
    "\n",
    "all_tweeters = list({**science_hack_tweeters,  **science_hackers}.items())\n",
    "\n",
    "only_11_users = dict(all_tweeters[0:10])\n",
    "\n",
    "only_11_users[1531582164]='SHD_Berlin'\n",
    "only_11_users"
   ]
  },
  {
   "cell_type": "markdown",
   "metadata": {},
   "source": [
    "# Build and visualize as simple NetworkX graph from the Twitter data"
   ]
  },
  {
   "cell_type": "code",
   "execution_count": 61,
   "metadata": {},
   "outputs": [],
   "source": [
    "import networkx as nx\n",
    "\n",
    "graph = None\n",
    "graph = nx.DiGraph()"
   ]
  },
  {
   "cell_type": "code",
   "execution_count": 62,
   "metadata": {},
   "outputs": [],
   "source": [
    "def add_shdb_related_followers_to_graph(graph, user_id, user_name, all_users):\n",
    "    followers = api.GetFollowers(user_id=user_id, total_count=300, include_user_entities=False, skip_status=True)\n",
    "    for follower in followers:\n",
    "        if follower.id in all_users:\n",
    "            graph.add_node(user_name, id=user_id)\n",
    "            graph.add_node(follower.screen_name, id=follower.id)\n",
    "            graph.add_edge(follower.screen_name, user_name)"
   ]
  },
  {
   "cell_type": "code",
   "execution_count": 63,
   "metadata": {},
   "outputs": [
    {
     "name": "stdout",
     "output_type": "stream",
     "text": [
      "user:  Volpato1985\n",
      "user:  eLifeInnovation\n",
      "user:  talknewvic\n",
      "user:  genekogan\n",
      "user:  sciencejoram\n",
      "user:  katihappyy\n",
      "user:  xMartin\n",
      "user:  SHD_Berlin\n",
      "user:  nbt_ag\n",
      "user:  Rick_Scavetta\n",
      "user:  robertkovax\n"
     ]
    }
   ],
   "source": [
    "for user in only_11_users:\n",
    "    print(\"user: \", only_11_users[user])\n",
    "    add_shdb_related_followers_to_graph(graph, user, only_11_users[user], only_11_users)"
   ]
  },
  {
   "cell_type": "code",
   "execution_count": 64,
   "metadata": {},
   "outputs": [],
   "source": [
    "import matplotlib.pyplot as plt\n",
    "%matplotlib inline"
   ]
  },
  {
   "cell_type": "code",
   "execution_count": 65,
   "metadata": {},
   "outputs": [
    {
     "data": {
      "image/png": "[encoded data removed]",
      "text/plain": [
       "<matplotlib.figure.Figure at 0x111a8bcc0>"
      ]
     },
     "metadata": {},
     "output_type": "display_data"
    }
   ],
   "source": [
    "#plt.figure(figsize=(500, 500))\n",
    "nx.draw(graph, with_labels=True)"
   ]
  },
  {
   "cell_type": "markdown",
   "metadata": {},
   "source": [
    "# Next steps\n",
    "\n",
    " * get followers for all other users from the \"all users\" list\n",
    " * add edges to graph\n",
    " * Experiment with metrics to compute to get some interesting resutls"
   ]
  },
  {
   "cell_type": "code",
   "execution_count": 66,
   "metadata": {},
   "outputs": [],
   "source": [
    "pickle.dump(graph, open(\"basic_graph.p\", \"wb\"))"
   ]
  },
  {
   "cell_type": "code",
   "execution_count": 67,
   "metadata": {},
   "outputs": [
    {
     "data": {
      "text/plain": [
       "8"
      ]
     },
     "execution_count": 67,
     "metadata": {},
     "output_type": "execute_result"
    }
   ],
   "source": [
    "graph.number_of_nodes()"
   ]
  },
  {
   "cell_type": "code",
   "execution_count": 68,
   "metadata": {},
   "outputs": [
    {
     "data": {
      "text/plain": [
       "8"
      ]
     },
     "execution_count": 68,
     "metadata": {},
     "output_type": "execute_result"
    }
   ],
   "source": [
    "graph.number_of_edges()"
   ]
  },
  {
   "cell_type": "code",
   "execution_count": 18,
   "metadata": {},
   "outputs": [],
   "source": [
    "graph = pickle.load(open(\"basic_graph.p\", \"rb\"))"
   ]
  },
  {
   "cell_type": "markdown",
   "metadata": {},
   "source": [
    "# Mögliche Visualisierungsdaten pro Node\n",
    " * Follower counts\n",
    " * Centrality "
   ]
  },
  {
   "cell_type": "code",
   "execution_count": 69,
   "metadata": {},
   "outputs": [
    {
     "name": "stdout",
     "output_type": "stream",
     "text": [
      "('robertkovax', {'id': 2867007903, 'out_degree': 0.0, 'closeness': 0.2571428571428571, 'betweenness': 0.0, 'in_degree': 0.14285714285714285})\n",
      "('sciencejoram', {'id': 715590200794222593, 'out_degree': 0.0, 'closeness': 0.2571428571428571, 'betweenness': 0.0, 'in_degree': 0.14285714285714285})\n",
      "('nbt_ag', {'id': 804277319510724609, 'out_degree': 0.0, 'closeness': 0.2571428571428571, 'betweenness': 0.0, 'in_degree': 0.14285714285714285})\n",
      "('Rick_Scavetta', {'id': 2203330990, 'out_degree': 0.14285714285714285, 'closeness': 0.0, 'betweenness': 0.0, 'in_degree': 0.0})\n",
      "('Volpato1985', {'id': 821041513836724224, 'out_degree': 0.14285714285714285, 'closeness': 0.19047619047619047, 'betweenness': 0.0, 'in_degree': 0.14285714285714285})\n",
      "('SHD_Berlin', {'id': 1531582164, 'out_degree': 0.7142857142857142, 'closeness': 0.2857142857142857, 'betweenness': 0.21428571428571427, 'in_degree': 0.2857142857142857})\n",
      "('eLifeInnovation', {'id': 819927704850038785, 'out_degree': 0.14285714285714285, 'closeness': 0.0, 'betweenness': 0.0, 'in_degree': 0.0})\n",
      "('katihappyy', {'id': 1243981704, 'out_degree': 0.0, 'closeness': 0.38095238095238093, 'betweenness': 0.0, 'in_degree': 0.2857142857142857})\n"
     ]
    }
   ],
   "source": [
    "betweenness = nx.betweenness_centrality(graph)\n",
    "in_degree = nx.in_degree_centrality(graph)\n",
    "out_degree = nx.out_degree_centrality(graph)\n",
    "closeness = nx.closeness_centrality(graph)\n",
    "\n",
    "for node in graph.nodes(data=True):\n",
    "    node[1]['betweenness'] = betweenness[node[0]]\n",
    "    node[1]['in_degree'] = in_degree[node[0]]\n",
    "    node[1]['out_degree'] = out_degree[node[0]]\n",
    "    node[1]['closeness'] = closeness[node[0]]\n",
    "    print(node)"
   ]
  },
  {
   "cell_type": "code",
   "execution_count": null,
   "metadata": {},
   "outputs": [],
   "source": []
  }
 ],
 "metadata": {
  "kernelspec": {
   "display_name": "Python 3",
   "language": "python",
   "name": "python3"
  },
  "language_info": {
   "codemirror_mode": {
    "name": "ipython",
    "version": 3
   },
   "file_extension": ".py",
   "mimetype": "text/x-python",
   "name": "python",
   "nbconvert_exporter": "python",
   "pygments_lexer": "ipython3",
   "version": "3.5.0"
  }
 },
 "nbformat": 4,
 "nbformat_minor": 2
}
