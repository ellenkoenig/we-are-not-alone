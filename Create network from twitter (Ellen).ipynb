{
 "cells": [
  {
   "cell_type": "code",
   "execution_count": 2,
   "metadata": {},
   "outputs": [],
   "source": [
    "import os"
   ]
  },
  {
   "cell_type": "code",
   "execution_count": 4,
   "metadata": {},
   "outputs": [],
   "source": [
    "token=os.getenv('ACCESS_TOKEN')\n",
    "token_secret=os.getenv('ACCESS_TOKEN_SECRET')\n",
    "consumer_key=os.getenv('CONSUMER_KEY')\n",
    "consumer_secret=os.getenv('CONSUMER_SECRET')"
   ]
  },
  {
   "cell_type": "code",
   "execution_count": 5,
   "metadata": {},
   "outputs": [],
   "source": [
    "import twitter\n",
    "api = twitter.Api(consumer_key=consumer_key,\n",
    "                  consumer_secret=consumer_secret,\n",
    "                  access_token_key=token,\n",
    "                  access_token_secret=token_secret,\n",
    "                  #sleep_on_rate_limit=True\n",
    "                )"
   ]
  },
  {
   "cell_type": "code",
   "execution_count": 6,
   "metadata": {
    "scrolled": true
   },
   "outputs": [
    {
     "data": {
      "text/plain": [
       "<twitter.api.Api at 0x106604630>"
      ]
     },
     "execution_count": 6,
     "metadata": {},
     "output_type": "execute_result"
    }
   ],
   "source": [
    "api"
   ]
  },
  {
   "cell_type": "markdown",
   "metadata": {},
   "source": [
    "# Tweeters using the Hashtag #shdb17"
   ]
  },
  {
   "cell_type": "code",
   "execution_count": 7,
   "metadata": {},
   "outputs": [
    {
     "data": {
      "text/plain": [
       "{15772640: 'ramin__',\n",
       " 19071614: 'hirbel',\n",
       " 21995182: 'katausten',\n",
       " 40774011: 'luizalbd',\n",
       " 73082628: 'talknewvic',\n",
       " 77477607: 'derjoram',\n",
       " 99586343: 'lu_cyP',\n",
       " 274071475: 'UCLbasc',\n",
       " 700611380: 'rikunert',\n",
       " 1243981704: 'katihappyy'}"
      ]
     },
     "execution_count": 7,
     "metadata": {},
     "output_type": "execute_result"
    }
   ],
   "source": [
    "tweets = api.GetSearch(raw_query='q=%23shdb17&count=100&since_id=2017-10-01')\n",
    "science_hack_tweeters = {tweet.user.id: tweet.user.screen_name for tweet in tweets}\n",
    "science_hack_tweeters"
   ]
  },
  {
   "cell_type": "markdown",
   "metadata": {},
   "source": [
    "# Followers of a user"
   ]
  },
  {
   "cell_type": "code",
   "execution_count": 8,
   "metadata": {},
   "outputs": [],
   "source": [
    "followers_shd_berlin = api.GetFollowers(user_id='1531582164', total_count=5, skip_status=True)"
   ]
  },
  {
   "cell_type": "code",
   "execution_count": 9,
   "metadata": {},
   "outputs": [
    {
     "data": {
      "text/plain": [
       "[User(ID=922114111000936450, ScreenName=RJAston_Tech),\n",
       " User(ID=307615698, ScreenName=Cassandreces),\n",
       " User(ID=19071614, ScreenName=hirbel),\n",
       " User(ID=165745785, ScreenName=Mboathomas),\n",
       " User(ID=87736333, ScreenName=orensbruno)]"
      ]
     },
     "execution_count": 9,
     "metadata": {},
     "output_type": "execute_result"
    }
   ],
   "source": [
    "followers_shd_berlin"
   ]
  },
  {
   "cell_type": "code",
   "execution_count": 10,
   "metadata": {},
   "outputs": [
    {
     "data": {
      "text/plain": [
       "'RJAston_Tech'"
      ]
     },
     "execution_count": 10,
     "metadata": {},
     "output_type": "execute_result"
    }
   ],
   "source": [
    "followers_shd_berlin[0].screen_name"
   ]
  },
  {
   "cell_type": "markdown",
   "metadata": {},
   "source": [
    "# Members of the SHDB17 Twitter list \n",
    "https://twitter.com/SHD_Berlin/lists/shd-berlin-2017"
   ]
  },
  {
   "cell_type": "code",
   "execution_count": 11,
   "metadata": {},
   "outputs": [
    {
     "data": {
      "text/plain": [
       "[List(ID=928630046448848897, FullName='@SHD_Berlin/shd-berlin-2017', Slug=shd-berlin-2017, User=SHD_Berlin),\n",
       " List(ID=873203403538796544, FullName='@SHD_Berlin/shdb17-orga-team', Slug=shdb17-orga-team, User=SHD_Berlin),\n",
       " List(ID=779484881285963776, FullName='@SHD_Berlin/shd-berlin-2016', Slug=shd-berlin-2016, User=SHD_Berlin),\n",
       " List(ID=230990707, FullName='@SHD_Berlin/berlin-community', Slug=berlin-community, User=SHD_Berlin),\n",
       " List(ID=223103221, FullName='@SHD_Berlin/shd-berlin-2015', Slug=shd-berlin-2015, User=SHD_Berlin),\n",
       " List(ID=175486869, FullName='@SHD_Berlin/shd-berlin-2014', Slug=shd-berlin-2014, User=SHD_Berlin)]"
      ]
     },
     "execution_count": 11,
     "metadata": {},
     "output_type": "execute_result"
    }
   ],
   "source": [
    "api.GetLists(user_id='1531582164')"
   ]
  },
  {
   "cell_type": "code",
   "execution_count": 12,
   "metadata": {},
   "outputs": [
    {
     "data": {
      "text/plain": [
       "{11712822: 'li5a',\n",
       " 14947781: 'onna_no_hito',\n",
       " 15772640: 'ramin__',\n",
       " 19071614: 'hirbel',\n",
       " 21492460: 'ellen_koenig',\n",
       " 21995182: 'katausten',\n",
       " 29342035: 'PCH_Intl',\n",
       " 40774011: 'luizalbd',\n",
       " 51757957: 'genekogan',\n",
       " 77477607: 'derjoram',\n",
       " 99586343: 'lu_cyP',\n",
       " 165745785: 'Mboathomas',\n",
       " 202275865: 'xMartin',\n",
       " 226237233: 'arnejenssen',\n",
       " 307615698: 'Cassandreces',\n",
       " 326840157: 'dadafoto',\n",
       " 333494575: 'meredityman',\n",
       " 378694453: 'sarahhermanutz',\n",
       " 1112710856: 'AravinthPanch',\n",
       " 1243981704: 'katihappyy',\n",
       " 1637049138: 'GoodpatchBerlin',\n",
       " 2203330990: 'Rick_Scavetta',\n",
       " 2675053819: 'giu_pap',\n",
       " 2809668737: 'lukeidesign',\n",
       " 2867007903: 'robertkovax',\n",
       " 4414975041: 'Th_Heidtmann',\n",
       " 715590200794222593: 'sciencejoram',\n",
       " 804277319510724609: 'nbt_ag',\n",
       " 819927704850038785: 'eLifeInnovation',\n",
       " 821041513836724224: 'Volpato1985'}"
      ]
     },
     "execution_count": 12,
     "metadata": {},
     "output_type": "execute_result"
    }
   ],
   "source": [
    "science_hackers = {user.id: user.screen_name for user in api.GetListMembers(list_id='928630046448848897')}\n",
    "science_hackers"
   ]
  },
  {
   "cell_type": "code",
   "execution_count": 13,
   "metadata": {},
   "outputs": [
    {
     "data": {
      "text/plain": [
       "34"
      ]
     },
     "execution_count": 13,
     "metadata": {},
     "output_type": "execute_result"
    }
   ],
   "source": [
    "all_users = {**science_hack_tweeters,  **science_hackers, **{1531582164:'Science Hack Day BLN'}}\n",
    "len(all_users)"
   ]
  },
  {
   "cell_type": "code",
   "execution_count": 14,
   "metadata": {},
   "outputs": [
    {
     "data": {
      "text/plain": [
       "{51757957: 'genekogan',\n",
       " 73082628: 'talknewvic',\n",
       " 1531582164: 'Science Hack Day BLN',\n",
       " 715590200794222593: 'sciencejoram',\n",
       " 819927704850038785: 'eLifeInnovation',\n",
       " 821041513836724224: 'Volpato1985'}"
      ]
     },
     "execution_count": 14,
     "metadata": {},
     "output_type": "execute_result"
    }
   ],
   "source": [
    "# Hack to limit the user list to 15\n",
    "\n",
    "all_tweeters = list({**science_hack_tweeters,  **science_hackers}.items())\n",
    "\n",
    "only_11_users = dict(all_tweeters[0:5])\n",
    "\n",
    "only_11_users[1531582164]='Science Hack Day BLN'\n",
    "only_11_users"
   ]
  },
  {
   "cell_type": "markdown",
   "metadata": {},
   "source": [
    "# Build and visualize as simple NetworkX graph from the Twitter data"
   ]
  },
  {
   "cell_type": "code",
   "execution_count": 21,
   "metadata": {},
   "outputs": [],
   "source": [
    "import networkx as nx\n",
    "\n",
    "graph = None\n",
    "graph = nx.DiGraph()"
   ]
  },
  {
   "cell_type": "code",
   "execution_count": 22,
   "metadata": {},
   "outputs": [],
   "source": [
    "def add_shdb_related_followers_to_graph(graph, user_id, user_name, all_users):\n",
    "    followers = api.GetFollowers(user_id=user_id, total_count=300, include_user_entities=False, skip_status=True)\n",
    "    for follower in followers:\n",
    "        if follower.id in all_users:\n",
    "            graph.add_edge(follower.screen_name, user_name)"
   ]
  },
  {
   "cell_type": "code",
   "execution_count": 23,
   "metadata": {},
   "outputs": [
    {
     "name": "stdout",
     "output_type": "stream",
     "text": [
      "user:  Volpato1985\n"
     ]
    },
    {
     "ename": "TwitterError",
     "evalue": "[{'message': 'Rate limit exceeded', 'code': 88}]",
     "output_type": "error",
     "traceback": [
      "\u001b[0;31m---------------------------------------------------------------------------\u001b[0m",
      "\u001b[0;31mTwitterError\u001b[0m                              Traceback (most recent call last)",
      "\u001b[0;32m<ipython-input-23-5e04fd2e0f4d>\u001b[0m in \u001b[0;36m<module>\u001b[0;34m()\u001b[0m\n\u001b[1;32m      1\u001b[0m \u001b[0;32mfor\u001b[0m \u001b[0muser\u001b[0m \u001b[0;32min\u001b[0m \u001b[0monly_11_users\u001b[0m\u001b[0;34m:\u001b[0m\u001b[0;34m\u001b[0m\u001b[0m\n\u001b[1;32m      2\u001b[0m     \u001b[0mprint\u001b[0m\u001b[0;34m(\u001b[0m\u001b[0;34m\"user: \"\u001b[0m\u001b[0;34m,\u001b[0m \u001b[0monly_11_users\u001b[0m\u001b[0;34m[\u001b[0m\u001b[0muser\u001b[0m\u001b[0;34m]\u001b[0m\u001b[0;34m)\u001b[0m\u001b[0;34m\u001b[0m\u001b[0m\n\u001b[0;32m----> 3\u001b[0;31m     \u001b[0madd_shdb_related_followers_to_graph\u001b[0m\u001b[0;34m(\u001b[0m\u001b[0mgraph\u001b[0m\u001b[0;34m,\u001b[0m \u001b[0muser\u001b[0m\u001b[0;34m,\u001b[0m \u001b[0monly_11_users\u001b[0m\u001b[0;34m[\u001b[0m\u001b[0muser\u001b[0m\u001b[0;34m]\u001b[0m\u001b[0;34m,\u001b[0m \u001b[0monly_11_users\u001b[0m\u001b[0;34m)\u001b[0m\u001b[0;34m\u001b[0m\u001b[0m\n\u001b[0m",
      "\u001b[0;32m<ipython-input-22-20015fca44ee>\u001b[0m in \u001b[0;36madd_shdb_related_followers_to_graph\u001b[0;34m(graph, user_id, user_name, all_users)\u001b[0m\n\u001b[1;32m      1\u001b[0m \u001b[0;32mdef\u001b[0m \u001b[0madd_shdb_related_followers_to_graph\u001b[0m\u001b[0;34m(\u001b[0m\u001b[0mgraph\u001b[0m\u001b[0;34m,\u001b[0m \u001b[0muser_id\u001b[0m\u001b[0;34m,\u001b[0m \u001b[0muser_name\u001b[0m\u001b[0;34m,\u001b[0m \u001b[0mall_users\u001b[0m\u001b[0;34m)\u001b[0m\u001b[0;34m:\u001b[0m\u001b[0;34m\u001b[0m\u001b[0m\n\u001b[0;32m----> 2\u001b[0;31m     \u001b[0mfollowers\u001b[0m \u001b[0;34m=\u001b[0m \u001b[0mapi\u001b[0m\u001b[0;34m.\u001b[0m\u001b[0mGetFollowers\u001b[0m\u001b[0;34m(\u001b[0m\u001b[0muser_id\u001b[0m\u001b[0;34m=\u001b[0m\u001b[0muser_id\u001b[0m\u001b[0;34m,\u001b[0m \u001b[0mtotal_count\u001b[0m\u001b[0;34m=\u001b[0m\u001b[0;36m300\u001b[0m\u001b[0;34m,\u001b[0m \u001b[0minclude_user_entities\u001b[0m\u001b[0;34m=\u001b[0m\u001b[0;32mFalse\u001b[0m\u001b[0;34m,\u001b[0m \u001b[0mskip_status\u001b[0m\u001b[0;34m=\u001b[0m\u001b[0;32mTrue\u001b[0m\u001b[0;34m)\u001b[0m\u001b[0;34m\u001b[0m\u001b[0m\n\u001b[0m\u001b[1;32m      3\u001b[0m     \u001b[0;32mfor\u001b[0m \u001b[0mfollower\u001b[0m \u001b[0;32min\u001b[0m \u001b[0mfollowers\u001b[0m\u001b[0;34m:\u001b[0m\u001b[0;34m\u001b[0m\u001b[0m\n\u001b[1;32m      4\u001b[0m         \u001b[0;32mif\u001b[0m \u001b[0mfollower\u001b[0m\u001b[0;34m.\u001b[0m\u001b[0mid\u001b[0m \u001b[0;32min\u001b[0m \u001b[0mall_users\u001b[0m\u001b[0;34m:\u001b[0m\u001b[0;34m\u001b[0m\u001b[0m\n\u001b[1;32m      5\u001b[0m             \u001b[0mgraph\u001b[0m\u001b[0;34m.\u001b[0m\u001b[0madd_edge\u001b[0m\u001b[0;34m(\u001b[0m\u001b[0mfollower\u001b[0m\u001b[0;34m.\u001b[0m\u001b[0mscreen_name\u001b[0m\u001b[0;34m,\u001b[0m \u001b[0muser_name\u001b[0m\u001b[0;34m)\u001b[0m\u001b[0;34m\u001b[0m\u001b[0m\n",
      "\u001b[0;32m/anaconda3/envs/shdb17/lib/python3.5/site-packages/twitter/api.py\u001b[0m in \u001b[0;36mGetFollowers\u001b[0;34m(self, user_id, screen_name, cursor, count, total_count, skip_status, include_user_entities)\u001b[0m\n\u001b[1;32m   2800\u001b[0m                                          \u001b[0mtotal_count\u001b[0m\u001b[0;34m,\u001b[0m\u001b[0;34m\u001b[0m\u001b[0m\n\u001b[1;32m   2801\u001b[0m                                          \u001b[0mskip_status\u001b[0m\u001b[0;34m,\u001b[0m\u001b[0;34m\u001b[0m\u001b[0m\n\u001b[0;32m-> 2802\u001b[0;31m                                          include_user_entities)\n\u001b[0m\u001b[1;32m   2803\u001b[0m \u001b[0;34m\u001b[0m\u001b[0m\n\u001b[1;32m   2804\u001b[0m     def GetFriends(self,\n",
      "\u001b[0;32m/anaconda3/envs/shdb17/lib/python3.5/site-packages/twitter/api.py\u001b[0m in \u001b[0;36m_GetFriendsFollowers\u001b[0;34m(self, url, user_id, screen_name, cursor, count, total_count, skip_status, include_user_entities)\u001b[0m\n\u001b[1;32m   2743\u001b[0m                 \u001b[0mcount\u001b[0m\u001b[0;34m,\u001b[0m\u001b[0;34m\u001b[0m\u001b[0m\n\u001b[1;32m   2744\u001b[0m                 \u001b[0mskip_status\u001b[0m\u001b[0;34m,\u001b[0m\u001b[0;34m\u001b[0m\u001b[0m\n\u001b[0;32m-> 2745\u001b[0;31m                 include_user_entities)\n\u001b[0m\u001b[1;32m   2746\u001b[0m \u001b[0;34m\u001b[0m\u001b[0m\n\u001b[1;32m   2747\u001b[0m             \u001b[0;32mif\u001b[0m \u001b[0mnext_cursor\u001b[0m\u001b[0;34m:\u001b[0m\u001b[0;34m\u001b[0m\u001b[0m\n",
      "\u001b[0;32m/anaconda3/envs/shdb17/lib/python3.5/site-packages/twitter/api.py\u001b[0m in \u001b[0;36m_GetFriendsFollowersPaged\u001b[0;34m(self, url, user_id, screen_name, cursor, count, skip_status, include_user_entities)\u001b[0m\n\u001b[1;32m   2571\u001b[0m \u001b[0;34m\u001b[0m\u001b[0m\n\u001b[1;32m   2572\u001b[0m         \u001b[0mresp\u001b[0m \u001b[0;34m=\u001b[0m \u001b[0mself\u001b[0m\u001b[0;34m.\u001b[0m\u001b[0m_RequestUrl\u001b[0m\u001b[0;34m(\u001b[0m\u001b[0murl\u001b[0m\u001b[0;34m,\u001b[0m \u001b[0;34m'GET'\u001b[0m\u001b[0;34m,\u001b[0m \u001b[0mdata\u001b[0m\u001b[0;34m=\u001b[0m\u001b[0mparameters\u001b[0m\u001b[0;34m)\u001b[0m\u001b[0;34m\u001b[0m\u001b[0m\n\u001b[0;32m-> 2573\u001b[0;31m         \u001b[0mdata\u001b[0m \u001b[0;34m=\u001b[0m \u001b[0mself\u001b[0m\u001b[0;34m.\u001b[0m\u001b[0m_ParseAndCheckTwitter\u001b[0m\u001b[0;34m(\u001b[0m\u001b[0mresp\u001b[0m\u001b[0;34m.\u001b[0m\u001b[0mcontent\u001b[0m\u001b[0;34m.\u001b[0m\u001b[0mdecode\u001b[0m\u001b[0;34m(\u001b[0m\u001b[0;34m'utf-8'\u001b[0m\u001b[0;34m)\u001b[0m\u001b[0;34m)\u001b[0m\u001b[0;34m\u001b[0m\u001b[0m\n\u001b[0m\u001b[1;32m   2574\u001b[0m \u001b[0;34m\u001b[0m\u001b[0m\n\u001b[1;32m   2575\u001b[0m         \u001b[0;32mif\u001b[0m \u001b[0;34m'users'\u001b[0m \u001b[0;32min\u001b[0m \u001b[0mdata\u001b[0m\u001b[0;34m:\u001b[0m\u001b[0;34m\u001b[0m\u001b[0m\n",
      "\u001b[0;32m/anaconda3/envs/shdb17/lib/python3.5/site-packages/twitter/api.py\u001b[0m in \u001b[0;36m_ParseAndCheckTwitter\u001b[0;34m(self, json_data)\u001b[0m\n\u001b[1;32m   4892\u001b[0m                 \u001b[0;32mraise\u001b[0m \u001b[0mTwitterError\u001b[0m\u001b[0;34m(\u001b[0m\u001b[0;34m{\u001b[0m\u001b[0;34m'message'\u001b[0m\u001b[0;34m:\u001b[0m \u001b[0;34m\"Unauthorized\"\u001b[0m\u001b[0;34m}\u001b[0m\u001b[0;34m)\u001b[0m\u001b[0;34m\u001b[0m\u001b[0m\n\u001b[1;32m   4893\u001b[0m             \u001b[0;32mraise\u001b[0m \u001b[0mTwitterError\u001b[0m\u001b[0;34m(\u001b[0m\u001b[0;34m{\u001b[0m\u001b[0;34m'Unknown error: {0}'\u001b[0m\u001b[0;34m.\u001b[0m\u001b[0mformat\u001b[0m\u001b[0;34m(\u001b[0m\u001b[0mjson_data\u001b[0m\u001b[0;34m)\u001b[0m\u001b[0;34m}\u001b[0m\u001b[0;34m)\u001b[0m\u001b[0;34m\u001b[0m\u001b[0m\n\u001b[0;32m-> 4894\u001b[0;31m         \u001b[0mself\u001b[0m\u001b[0;34m.\u001b[0m\u001b[0m_CheckForTwitterError\u001b[0m\u001b[0;34m(\u001b[0m\u001b[0mdata\u001b[0m\u001b[0;34m)\u001b[0m\u001b[0;34m\u001b[0m\u001b[0m\n\u001b[0m\u001b[1;32m   4895\u001b[0m         \u001b[0;32mreturn\u001b[0m \u001b[0mdata\u001b[0m\u001b[0;34m\u001b[0m\u001b[0m\n\u001b[1;32m   4896\u001b[0m \u001b[0;34m\u001b[0m\u001b[0m\n",
      "\u001b[0;32m/anaconda3/envs/shdb17/lib/python3.5/site-packages/twitter/api.py\u001b[0m in \u001b[0;36m_CheckForTwitterError\u001b[0;34m(data)\u001b[0m\n\u001b[1;32m   4912\u001b[0m             \u001b[0;32mraise\u001b[0m \u001b[0mTwitterError\u001b[0m\u001b[0;34m(\u001b[0m\u001b[0mdata\u001b[0m\u001b[0;34m[\u001b[0m\u001b[0;34m'error'\u001b[0m\u001b[0;34m]\u001b[0m\u001b[0;34m)\u001b[0m\u001b[0;34m\u001b[0m\u001b[0m\n\u001b[1;32m   4913\u001b[0m         \u001b[0;32mif\u001b[0m \u001b[0;34m'errors'\u001b[0m \u001b[0;32min\u001b[0m \u001b[0mdata\u001b[0m\u001b[0;34m:\u001b[0m\u001b[0;34m\u001b[0m\u001b[0m\n\u001b[0;32m-> 4914\u001b[0;31m             \u001b[0;32mraise\u001b[0m \u001b[0mTwitterError\u001b[0m\u001b[0;34m(\u001b[0m\u001b[0mdata\u001b[0m\u001b[0;34m[\u001b[0m\u001b[0;34m'errors'\u001b[0m\u001b[0;34m]\u001b[0m\u001b[0;34m)\u001b[0m\u001b[0;34m\u001b[0m\u001b[0m\n\u001b[0m\u001b[1;32m   4915\u001b[0m \u001b[0;34m\u001b[0m\u001b[0m\n\u001b[1;32m   4916\u001b[0m     \u001b[0;32mdef\u001b[0m \u001b[0m_RequestChunkedUpload\u001b[0m\u001b[0;34m(\u001b[0m\u001b[0mself\u001b[0m\u001b[0;34m,\u001b[0m \u001b[0murl\u001b[0m\u001b[0;34m,\u001b[0m \u001b[0mheaders\u001b[0m\u001b[0;34m,\u001b[0m \u001b[0mdata\u001b[0m\u001b[0;34m)\u001b[0m\u001b[0;34m:\u001b[0m\u001b[0;34m\u001b[0m\u001b[0m\n",
      "\u001b[0;31mTwitterError\u001b[0m: [{'message': 'Rate limit exceeded', 'code': 88}]"
     ]
    }
   ],
   "source": [
    "for user in only_11_users:\n",
    "    print(\"user: \", only_11_users[user])\n",
    "    add_shdb_related_followers_to_graph(graph, user, only_11_users[user], only_11_users)"
   ]
  },
  {
   "cell_type": "code",
   "execution_count": 143,
   "metadata": {},
   "outputs": [],
   "source": [
    "import matplotlib.pyplot as plt\n",
    "%matplotlib inline"
   ]
  },
  {
   "cell_type": "code",
   "execution_count": 144,
   "metadata": {},
   "outputs": [
    {
     "data": {
      "image/png": "[encoded data removed]",
      "text/plain": [
       "<matplotlib.figure.Figure at 0x121ee42e8>"
      ]
     },
     "metadata": {},
     "output_type": "display_data"
    }
   ],
   "source": [
    "#plt.figure(figsize=(500, 500))\n",
    "nx.draw(graph, with_labels=True)"
   ]
  },
  {
   "cell_type": "markdown",
   "metadata": {},
   "source": [
    "# Next steps\n",
    "\n",
    " * get followers for all other users from the \"all users\" list\n",
    " * add edges to graph\n",
    " * Experiment with metrics to compute to get some interesting resutls"
   ]
  },
  {
   "cell_type": "code",
   "execution_count": 136,
   "metadata": {},
   "outputs": [],
   "source": [
    "import pickle\n",
    "\n",
    "pickle.dump(graph, open(\"basic_graph.p\", \"wb\"))"
   ]
  },
  {
   "cell_type": "code",
   "execution_count": 139,
   "metadata": {},
   "outputs": [
    {
     "data": {
      "text/plain": [
       "14"
      ]
     },
     "execution_count": 139,
     "metadata": {},
     "output_type": "execute_result"
    }
   ],
   "source": [
    "graph.number_of_nodes()"
   ]
  },
  {
   "cell_type": "code",
   "execution_count": 140,
   "metadata": {},
   "outputs": [
    {
     "data": {
      "text/plain": [
       "6"
      ]
     },
     "execution_count": 140,
     "metadata": {},
     "output_type": "execute_result"
    }
   ],
   "source": [
    "graph.number_of_edges()"
   ]
  },
  {
   "cell_type": "code",
   "execution_count": null,
   "metadata": {},
   "outputs": [],
   "source": []
  }
 ],
 "metadata": {
  "kernelspec": {
   "display_name": "Python 3",
   "language": "python",
   "name": "python3"
  },
  "language_info": {
   "codemirror_mode": {
    "name": "ipython",
    "version": 3
   },
   "file_extension": ".py",
   "mimetype": "text/x-python",
   "name": "python",
   "nbconvert_exporter": "python",
   "pygments_lexer": "ipython3",
   "version": "3.5.0"
  }
 },
 "nbformat": 4,
 "nbformat_minor": 2
}
